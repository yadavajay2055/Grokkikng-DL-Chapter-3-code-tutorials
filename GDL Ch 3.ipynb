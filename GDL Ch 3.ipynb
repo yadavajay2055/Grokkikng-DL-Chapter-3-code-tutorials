{
 "cells": [
  {
   "cell_type": "code",
   "execution_count": 8,
   "metadata": {},
   "outputs": [],
   "source": [
    "weight = 0.1\n",
    "def neural_network(inp,weight):\n",
    "    pred = input * weight \n",
    "    return pred"
   ]
  },
  {
   "cell_type": "code",
   "execution_count": 9,
   "metadata": {},
   "outputs": [
    {
     "name": "stdout",
     "output_type": "stream",
     "text": [
      "0.8500000000000001\n"
     ]
    }
   ],
   "source": [
    "no_of_toes = [8.5,9.5,10,9]\n",
    "inp = no_of_toes[0]\n",
    "pred1 = neural_network(inp,weight)\n",
    "print(pred1)"
   ]
  },
  {
   "cell_type": "code",
   "execution_count": 20,
   "metadata": {},
   "outputs": [
    {
     "name": "stdout",
     "output_type": "stream",
     "text": [
      "0.9800000000000001\n"
     ]
    }
   ],
   "source": [
    "def w_sum(a,b):\n",
    "    assert(len(a)==len(b))\n",
    "    output = 0 \n",
    "    for i in range(len(a)):\n",
    "        output += a[i] * b[i]\n",
    "    return output\n",
    "wt = [0.1,0.2,0]\n",
    "def neural_network(inp,wt):\n",
    "    pred = w_sum(inp,wt)\n",
    "    return pred\n",
    "\n",
    "toes = [8.5, 9.5, 9.9, 9.0]\n",
    "wlrec = [0.65, 0.8, 0.8, 0.9]\n",
    "nfans = [1.2, 1.3, 0.5, 1.0] \n",
    "\n",
    "inp = [toes[0],wlrec[0],nfans[0]] \n",
    "pred1= neural_network(inp,wt)\n",
    "print(pred1)"
   ]
  },
  {
   "cell_type": "code",
   "execution_count": 19,
   "metadata": {},
   "outputs": [
    {
     "name": "stdout",
     "output_type": "stream",
     "text": [
      "0.9800000000000001\n"
     ]
    }
   ],
   "source": [
    "import numpy as np\n",
    "toes =np.array([8.5, 9.5, 9.9, 9.0])\n",
    "wlrec= np.array([0.65, 0.8, 0.8, 0.9])\n",
    "nfans = np.array([1.2, 1.3, 0.5, 1.0])\n",
    "wt= np.array([0.1,0.2,0])\n",
    "inp = np.array([toes[0],wlrec[0],nfans[0]])\n",
    "def neural_network(inp,wt):\n",
    "    pred = inp.dot(wt)\n",
    "    return pred\n",
    "f_pred = neural_network(inp,wt)\n",
    "print(f_pred)\n",
    "\n"
   ]
  },
  {
   "cell_type": "code",
   "execution_count": 22,
   "metadata": {},
   "outputs": [
    {
     "name": "stdout",
     "output_type": "stream",
     "text": [
      "0.9800000000000001\n"
     ]
    }
   ],
   "source": [
    "import numpy as np \n",
    "toes =np.array([8.5, 9.5, 9.9, 9.0])\n",
    "wlrec= np.array([0.65, 0.8, 0.8, 0.9])\n",
    "nfans = np.array([1.2, 1.3, 0.5, 1.0])\n",
    "wt= np.array([0.1,0.2,0])\n",
    "inp = np.array([toes[0],wlrec[0],nfans[0]])\n",
    "def neural_network(inp,wt ):\n",
    "    pred = np.dot(inp,wt)\n",
    "    return pred \n",
    "pred = neural_network(inp,wt)\n",
    "print(pred)\n",
    "\n",
    "\n"
   ]
  },
  {
   "cell_type": "code",
   "execution_count": 30,
   "metadata": {},
   "outputs": [
    {
     "name": "stdout",
     "output_type": "stream",
     "text": [
      "[0.195, 0.13, 0.5850000000000001]\n"
     ]
    }
   ],
   "source": [
    "def ele_mul(a,b):\n",
    "    #assert(len(a)==len(b))\n",
    "    output= [0,0,0]\n",
    "    for i in range(len(b)):\n",
    "        output[i]=a*b[i]\n",
    "    return output    \n",
    "\n",
    "def neural_network(inp,wt):\n",
    "    pred = ele_mul(inp,wt)\n",
    "    return pred\n",
    "\n",
    "wt = [0.3,0.2,0.9]\n",
    "wlrec = [0.65,0.8,0.8,0.9]\n",
    "inp = wlrec[0]\n",
    "pred1 = neural_network(inp,wt)\n",
    "print(pred1)"
   ]
  },
  {
   "cell_type": "code",
   "execution_count": 34,
   "metadata": {},
   "outputs": [],
   "source": [
    "#import numpy as np\n",
    "#wt = np.array([0.3,0.2,0.9])\n",
    "#wlrec =np.array([0.65,0.8,0.8,0.9])\n",
    "#inp = wlrec[0]\n",
    "#def neural_network(inp,wt):\n",
    " #   pred = np.dot(inp,wt)\n",
    "  #  return pred\n",
    "#print(pred)"
   ]
  },
  {
   "cell_type": "code",
   "execution_count": 43,
   "metadata": {},
   "outputs": [
    {
     "name": "stdout",
     "output_type": "stream",
     "text": [
      "[0.555, 0.9800000000000001, 0.9650000000000001]\n"
     ]
    }
   ],
   "source": [
    "toes =  [8.5, 9.5, 9.9, 9.0]\n",
    "wlrec = [0.65,0.8, 0.8, 0.9] \n",
    "nfans = [1.2, 1.3, 0.5, 1.0]\n",
    "inp = [toes[0],wlrec[0],nfans[0]]\n",
    "wt = [ [0.1, 0.1, -0.3],# hurt?  \n",
    "           [0.1, 0.2, 0.0], # win?\n",
    "           [0.0, 1.3, 0.1] ]# sad?\n",
    "def w_sum(a,b):\n",
    "    assert(len(a)==len(b))\n",
    "    output = 0\n",
    "    for i in range(len(b)):\n",
    "        output += a[i] * b[i]\n",
    "    return output    \n",
    "def vect_mat(vect,mat):\n",
    "    assert(len(vect)==len(mat))\n",
    "    output = [0,0,0]\n",
    "    for i in range(len(vect)):\n",
    "        output[i] = w_sum(vect,mat[i])\n",
    "    return output\n",
    "def neural_network(inp,wt):\n",
    "    pred = vect_mat(inp,wt)\n",
    "    return pred\n",
    "\n",
    "\n",
    "pred1 = neural_network(inp,wt)\n",
    "print(pred1)\n",
    "\n",
    "\n",
    "\n"
   ]
  },
  {
   "cell_type": "code",
   "execution_count": 47,
   "metadata": {},
   "outputs": [
    {
     "name": "stdout",
     "output_type": "stream",
     "text": [
      "[0.21350000000000002, 0.14500000000000002, 0.5065]\n"
     ]
    }
   ],
   "source": [
    "toes =  [8.5, 9.5, 9.9, 9.0]\n",
    "wlrec = [0.65,0.8, 0.8, 0.9]\n",
    "nfans = [1.2, 1.3, 0.5, 1.0]\n",
    "inp = [toes[0],wlrec[0],nfans[0]]\n",
    "\n",
    "ih_wgt = [ [0.1, 0.2, -0.1], # hid[0]\n",
    "          [-0.1,0.1, 0.9], # hid[1] \n",
    "          [0.1, 0.4, 0.1] ] # hid[2]\n",
    "      #hid[0] hid[1] hid[2]\n",
    "hp_wgt = [ [0.3, 1.1, -0.3], # hurt? \n",
    "          [0.1, 0.2, 0.0], # win?\n",
    "          [0.0, 1.3, 0.1] ] # sad?\n",
    "weights = [ih_wgt, hp_wgt]\n",
    "          \n",
    "def w_sum(a,b):\n",
    "    #assert(len(a)==len(b))\n",
    "    output = 0\n",
    "    for i in range(len(b)):\n",
    "        output += a[i] * b[i]\n",
    "    return output    \n",
    "def vect_mat_mul(vect,mat):\n",
    "    #assert(len(vect)==len(mat))\n",
    "    output = [0,0,0]\n",
    "    for i in range(len(vect)):\n",
    "          output[i] = w_sum(vect,mat[i])\n",
    "    return output\n",
    "                 \n",
    "def neural_network(inp, weights):\n",
    "          hid = vect_mat_mul(inp,weights[0])\n",
    "          pred = vect_mat_mul(hid,weights[1])\n",
    "          return pred\n",
    "          \n",
    "pred1 = neural_network(inp,weights)\n",
    "print(pred1)\n",
    "     \n"
   ]
  },
  {
   "cell_type": "code",
   "execution_count": 52,
   "metadata": {},
   "outputs": [
    {
     "name": "stdout",
     "output_type": "stream",
     "text": [
      "[0.2135 0.145  0.5065]\n"
     ]
    }
   ],
   "source": [
    "import numpy as np\n",
    "# toes % win # fans\n",
    "ih_wgt = np.array([             [0.1, 0.2, -0.1],\n",
    "                   # hid[0] \n",
    "                   [-0.1,0.1, 0.9], # hid[1] \n",
    "                   [0.1, 0.4, 0.1]]).T#hid[2]\n",
    "# hid[0] hid[1] hid[2] \n",
    "hp_wgt = np.array([              [0.3, 1.1, -0.3], # hurt?\n",
    "                   [0.1, 0.2, 0.0], # win?\n",
    "                   [0.0, 1.3, 0.1] ]).T #ad?\n",
    "weights = [ih_wgt, hp_wgt]\n",
    "def neural_network(inp, weights):\n",
    "    hid = inp.dot(weights[0])\n",
    "    pred = hid.dot(weights[1])\n",
    "    return pred\n",
    "toes =  np.array([8.5, 9.5, 9.9, 9.0])\n",
    "wlrec = np.array([0.65,0.8, 0.8, 0.9])\n",
    "nfans = np.array([1.2, 1.3, 0.5, 1.0])\n",
    "inp = np.array([toes[0],wlrec[0],nfans[0]])\n",
    "pred = neural_network(inp,weights)\n",
    "print(pred)\n"
   ]
  },
  {
   "cell_type": "code",
   "execution_count": null,
   "metadata": {},
   "outputs": [],
   "source": []
  },
  {
   "cell_type": "code",
   "execution_count": null,
   "metadata": {},
   "outputs": [],
   "source": []
  }
 ],
 "metadata": {
  "kernelspec": {
   "display_name": "Python 3",
   "language": "python",
   "name": "python3"
  },
  "language_info": {
   "codemirror_mode": {
    "name": "ipython",
    "version": 3
   },
   "file_extension": ".py",
   "mimetype": "text/x-python",
   "name": "python",
   "nbconvert_exporter": "python",
   "pygments_lexer": "ipython3",
   "version": "3.7.6"
  }
 },
 "nbformat": 4,
 "nbformat_minor": 4
}
